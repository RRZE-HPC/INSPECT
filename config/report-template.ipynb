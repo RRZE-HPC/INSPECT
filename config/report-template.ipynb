{
 "cells": [
  {
   "cell_type": "code",
   "execution_count": null,
   "metadata": {},
   "outputs": [],
   "source": [
    "%config InlineBackend.figure_format = \"svg\"\n",
    "import html\n",
    "from collections import defaultdict\n",
    "from pathlib import Path\n",
    "import json\n",
    "from pprint import pformat\n",
    "from tempfile import NamedTemporaryFile\n",
    "\n",
    "from IPython.display import display, HTML\n",
    "from ipywidgets import widgets\n",
    "import pandas as pd\n",
    "import matplotlib.pyplot as plt\n",
    "import compress_pickle\n",
    "from tabulate import tabulate\n",
    "\n",
    "from machinestate.html_export import to_html as ms_to_html\n",
    "from kerncraft.machinemodel import MachineModel\n",
    "from kerncraft.kernel import KernelCode\n",
    "\n",
    "from hpc_inspect.inspector import *"
   ]
  },
  {
   "cell_type": "code",
   "execution_count": null,
   "metadata": {
    "scrolled": true
   },
   "outputs": [],
   "source": [
    "machine = MachineModel(path_to_yaml='machine.yml')\n",
    "kernel = KernelCode(Path('kernel.c').read_text(), machine)"
   ]
  },
  {
   "cell_type": "code",
   "execution_count": null,
   "metadata": {},
   "outputs": [],
   "source": [
    "data = compress_pickle.load('dataframe.pickle.lzma')\n",
    "#data.set_index(['pmodel', 'compiler', 'incore_model', 'cores', 'define'], inplace=True)\n",
    "compilers = [cc for cc in data.compiler.unique() if cc is not None]\n",
    "incore_models = [icm for icm in data.incore_model.unique() if icm is not None]\n",
    "cache_predictors = [cp for cp in data.cache_predictor]"
   ]
  },
  {
   "cell_type": "markdown",
   "metadata": {},
   "source": [
    "## Stencil Properties"
   ]
  },
  {
   "cell_type": "code",
   "execution_count": null,
   "metadata": {},
   "outputs": [],
   "source": [
    "# TODO present origin and property of kernel code\n",
    "iterations_per_cacheline = int(data.get('iterations per cacheline').dropna().unique()[0])"
   ]
  },
  {
   "cell_type": "markdown",
   "metadata": {},
   "source": [
    "## Kernel Source Code"
   ]
  },
  {
   "cell_type": "code",
   "execution_count": null,
   "metadata": {},
   "outputs": [],
   "source": [
    "print(data.iloc[0].job.workload.kernel.get_code())"
   ]
  },
  {
   "cell_type": "markdown",
   "metadata": {},
   "source": [
    "### In-Core Analysis"
   ]
  },
  {
   "cell_type": "code",
   "execution_count": null,
   "metadata": {
    "scrolled": false
   },
   "outputs": [],
   "source": [
    "# Get analysis alongside with assembly for each compiler and in-core model\n",
    "cc_tab = widgets.Tab()\n",
    "cc_tab_children = []\n",
    "for i, cc in enumerate(compilers):\n",
    "    cc_tab.set_title(i, cc)\n",
    "    icm_tab = widgets.Tab(children=[])\n",
    "    icm_tab_children = []\n",
    "    cc_tab_children.append(icm_tab)\n",
    "    for j, icm in enumerate(incore_models):\n",
    "        icm_tab.set_title(j, icm)\n",
    "        model_output = data.query(\"compiler == @cc and incore_model == @icm\")['in-core model output'].unique()\n",
    "        if model_output:\n",
    "            model_output = model_output[0]\n",
    "        else:\n",
    "            model_output = ''\n",
    "        icm_tab_children.append(\n",
    "            widgets.HTML(value='<pre style=\"line-height: 1;\">{}</pre>'.format(html.escape(model_output))))\n",
    "    icm_tab.children = icm_tab_children\n",
    "cc_tab.children = cc_tab_children\n",
    "\n",
    "cc_tab"
   ]
  },
  {
   "cell_type": "markdown",
   "metadata": {},
   "source": [
    "## Layer Conditions"
   ]
  },
  {
   "cell_type": "code",
   "execution_count": null,
   "metadata": {},
   "outputs": [],
   "source": [
    "lc_data = []\n",
    "for col in data.columns:\n",
    "    if not col.endswith(' LCs'):\n",
    "        continue\n",
    "    cache = col.split(' ')[0]\n",
    "    for lc in data.get(col).dropna()[0]:\n",
    "        lc['cache'] = cache\n",
    "        lc_data.append(lc)\n",
    "lc_df = pd.DataFrame(lc_data)\n",
    "idx = pd.MultiIndex.from_frame(lc_df[['cache', 'tail']])\n",
    "lc_df = pd.DataFrame(lc_data, columns=['condition', 'hits', 'misses', 'evicts'], index=idx)\n",
    "lc_df\n",
    "# TODO present size of N for condition to be fullfilled"
   ]
  },
  {
   "cell_type": "markdown",
   "metadata": {},
   "source": [
    "## Single Core Grid Scaling"
   ]
  },
  {
   "cell_type": "markdown",
   "metadata": {},
   "source": [
    "### ECM Prediction vs Performance"
   ]
  },
  {
   "cell_type": "code",
   "execution_count": null,
   "metadata": {
    "scrolled": false
   },
   "outputs": [],
   "source": [
    "data_defines = data.sort_values(by=['define'])\n",
    "fig, axs = plt.subplots(len(compilers), len(incore_models),\n",
    "                        squeeze=False,\n",
    "                        figsize=(4*len(incore_models),3*len(compilers)),\n",
    "                        sharey=True,\n",
    "                        sharex=True)\n",
    "for i_cc, cc in enumerate(compilers):\n",
    "    for i_icm, icm in enumerate(incore_models):\n",
    "        ax = axs[i_cc, i_icm]\n",
    "        ax.set_title(\"{} {}\".format(cc, icm))\n",
    "        ax.set_xscale(\"log\")\n",
    "        ax.xaxis.set_tick_params(labelbottom=True)\n",
    "        #ax.yaxis.set_tick_params(labelleft=True)\n",
    "        ax.grid()\n",
    "        ax.set_axisbelow(True)  # places gridlines behind everything else\n",
    "        \n",
    "        # ECM\n",
    "        ecm_data = data_defines.query('pmodel==\"ECM\" and cores==1 and incore_model == @icm and compiler == @cc')\n",
    "        ax.stackplot(\n",
    "            ecm_data['define'],\n",
    "            ecm_data['T_RegL1'], ecm_data['T_L1L2'], ecm_data['T_L2L3'], ecm_data['T_L3MEM'],\n",
    "            labels=('T_RegL1', 'T_L1L2', 'T_L2L3', 'T_L3MEM'))\n",
    "        ax.plot(ecm_data['define'], ecm_data.T_comp, label='T_comp')\n",
    "        \n",
    "        # Benchmark\n",
    "        bench_data = data_defines.query('pmodel==\"Benchmark\" and cores==1 and compiler == @cc')\n",
    "        ax.plot(bench_data.define, bench_data['performance [cy/CL]'], '+', label='Measured')\n",
    "        \n",
    "        # RooflineIACA\n",
    "        roof_data = data_defines.query('pmodel==\"RooflineIACA\" and incore_model == @icm and compiler == @cc')\n",
    "        ax.plot(roof_data.define, roof_data['performance [cy/CL]'], label='RL pred.')\n",
    "        \n",
    "        ax.set_ylim(0)\n",
    "        if i_icm == len(incore_models) - 1:\n",
    "            T_to_P = lambda T: float(machine['clock']) / T * iterations_per_cacheline\n",
    "            ax_right = ax.twinx()\n",
    "            ymin, ymax = ax.get_ylim()\n",
    "            ax_right.set_ylim(ax.get_ylim())\n",
    "            ax_right.set_yticklabels([\"{:.1f}\".format(T_to_P(t)/1e9) for t in ax.get_yticks()])\n",
    "            ax_right.set_ylabel(\"giga iterations per second\")\n",
    "        if i_icm == 0 and i_cc == 0:\n",
    "            ax.legend(loc='upper left')\n",
    "        if i_icm == 0:\n",
    "            ax.set_ylabel(\"cycle per {} iterations\".format(iterations_per_cacheline))\n",
    "        if i_cc == len(compilers) - 1:\n",
    "            ax.set_xlabel(\"dimension length\")\n",
    "# TODO move legend some where more useful\n",
    "# TODO name columns and rows\n",
    "# TODO find good metric (or name) for x-axis\n",
    "# TODO cache-analysis distinction (tabs?)"
   ]
  },
  {
   "cell_type": "markdown",
   "metadata": {},
   "source": [
    "### Data Transfers"
   ]
  },
  {
   "cell_type": "code",
   "execution_count": null,
   "metadata": {},
   "outputs": [],
   "source": [
    "for cp in cache_predictors:\n",
    "    data.query('cache_predictor==@cp')\n",
    "\n",
    "# TODO include predicted information into pandas\n",
    "# TODO include measured informatin into pandas (inspector.py:574)"
   ]
  },
  {
   "cell_type": "markdown",
   "metadata": {},
   "source": [
    "## Multi Core Thread Sacling"
   ]
  },
  {
   "cell_type": "code",
   "execution_count": null,
   "metadata": {},
   "outputs": [],
   "source": [
    "fig, axs = plt.subplots(len(compilers), len(incore_models), squeeze=False,\n",
    "                               figsize=(4*len(incore_models),3*len(compilers)))\n",
    "max_define = data.define.max()\n",
    "for i_cc, cc in enumerate(compilers):\n",
    "    for i_icm, icm in enumerate(incore_models):\n",
    "        ax = axs[i_cc, i_icm]\n",
    "        ax.set_title(\"{} {}\".format(cc, icm))\n",
    "        ax.xaxis.set_tick_params(labelbottom=True)\n",
    "        ax.grid()\n",
    "        \n",
    "        bench_data = data.query(\n",
    "            'pmodel==\"Benchmark\" and define==@max_define and compiler == @cc'\n",
    "        ).sort_values(by=['cores'])\n",
    "        ax.plot(bench_data.cores, bench_data['performance [It/s]']/1e9, label='Measured')\n",
    "        ecm_data = data.query(\n",
    "            'pmodel==\"ECM\" and define==@max_define and incore_model==@icm and compiler == @cc'\n",
    "        ).sort_values(by=['cores'])\n",
    "        ax.plot(ecm_data.cores, ecm_data['performance [It/s]']/1e9, label='ECM pred.')\n",
    "        roof_data = data.query(\n",
    "            'pmodel==\"RooflineIACA\" and define==@max_define and incore_model==@icm and compiler == @cc'\n",
    "        ).sort_values(by=['cores'])\n",
    "        ax.plot(roof_data.cores, roof_data['performance [It/s]']/1e9, label='RL pred.')\n",
    "        \n",
    "        ax.set_ylim(0)\n",
    "        ax.set_axisbelow(True)  # places gridlines behind everything else\n",
    "        if i_icm != 0:\n",
    "            ax.yaxis.set_tick_params(labelleft=False)\n",
    "        if i_icm == len(incore_models) - 1:\n",
    "            P_to_T = lambda P: iterations_per_cacheline*float(machine['clock'])/P\n",
    "            ax_right = ax.twinx()\n",
    "            ymin, ymax = ax.get_ylim()\n",
    "            ax_right.set_ylim(ax.get_ylim())\n",
    "            ax_right.set_yticklabels([\"{:.1f}\".format(P_to_T(t*1e9)) for t in ax.get_yticks()])\n",
    "            ax_right.set_ylabel(\"cycle per {} iterations\".format(iterations_per_cacheline))\n",
    "        ax.set_xticks(range(int(data.cores.min()), int(data.cores.max() + 1)))\n",
    "        if i_icm == 0 and i_cc == 0:\n",
    "            ax.legend()\n",
    "        if i_icm == 0:\n",
    "            ax.set_ylabel(\"giga iterations per second\")\n",
    "        if i_cc == len(compilers) - 1:\n",
    "            ax.set_xlabel(\"cores\")"
   ]
  },
  {
   "cell_type": "code",
   "execution_count": null,
   "metadata": {},
   "outputs": [],
   "source": []
  },
  {
   "cell_type": "markdown",
   "metadata": {},
   "source": [
    "## System Information"
   ]
  },
  {
   "cell_type": "code",
   "execution_count": null,
   "metadata": {
    "scrolled": false
   },
   "outputs": [],
   "source": [
    "with open('machinestate.json') as f:\n",
    "    machinestate = json.load(f)\n",
    "display(HTML('''\n",
    "    <iframe class=\"machinestatewrapper\" width=\"100%\" height=\"1000\" data-content=\"'''+html.escape(ms_to_html(machinestate))+'''\"></iframe>\n",
    "    <script>\n",
    "        var msw = $(\".machinestatewrapper\")[0];\n",
    "        var html = msw.getAttribute('data-content');\n",
    "        msw.contentDocument.write(html);\n",
    "        msw.contentWindow.document.close();\n",
    "    </script>'''))\n",
    "# TODO replace by more elegent solution"
   ]
  },
  {
   "cell_type": "markdown",
   "metadata": {},
   "source": [
    "# Notebook things to look at:\n",
    " * https://ipywidgets.readthedocs.io/en/latest/examples/Widget%20Styling.html\n"
   ]
  },
  {
   "cell_type": "code",
   "execution_count": null,
   "metadata": {},
   "outputs": [],
   "source": []
  },
  {
   "cell_type": "code",
   "execution_count": null,
   "metadata": {},
   "outputs": [],
   "source": []
  }
 ],
 "metadata": {
  "kernelspec": {
   "display_name": "Python 3.7.5 64-bit ('python37': virtualenv)",
   "language": "python",
   "name": "python37564bitpython37virtualenve45cc6d57f8c49279c8350752a82a235"
  },
  "language_info": {
   "codemirror_mode": {
    "name": "ipython",
    "version": 3
   },
   "file_extension": ".py",
   "mimetype": "text/x-python",
   "name": "python",
   "nbconvert_exporter": "python",
   "pygments_lexer": "ipython3",
   "version": "3.7.7"
  }
 },
 "nbformat": 4,
 "nbformat_minor": 4
}
